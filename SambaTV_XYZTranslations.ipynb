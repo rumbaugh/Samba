{
 "cells": [
  {
   "cell_type": "markdown",
   "metadata": {},
   "source": [
    "# Localizing XYZ French Translations"
   ]
  },
  {
   "cell_type": "markdown",
   "metadata": {},
   "source": [
    "The French XYZ site translation has a higher conversion rate for users from France (~8%) compared to those in French-speaking countries outside France (~5%). Since the only translation was from a French speaker from France, this could be an issue of localization. French dialects differ from country to country, so it is possible that French speakers not native to France are not connecting with the French translation.\n",
    "\n",
    "To test this hypothesis, localizations were provided for a number of French-speaking locales around the world. Each country in the test had the site translated by a native of that country. The test was run from November 30 to December 4, 2015. Users in that time were split randomly into a test and control group. The test group were shown these new localized translations, while those in the control group were shown the old translation by the native of France. \n",
    "\n",
    "The preliminary results of this test are surprising: the control group has a higher conversion rate. At face value, this would imply the localized translation are having the opposite effect as anticipated. Further analysis shows this not to be the case, however. The discrepancy is a result of both lower overall conversion rates in Algeria and Mauritius and a higher proportion of users in test group in those countries. After excising Algeria and Mauritius, the conversion rate is the same for the control and test group, showing the localized translations have no effect."
   ]
  },
  {
   "cell_type": "markdown",
   "metadata": {},
   "source": [
    "## Analysis\n",
    "The cause of the discrepancy between the conversion rates of the control and test groups has to do with differences between the populations in different countries. I have summarized the Conversion rates (fraction of users that were converted) and Test Fraction (fraction of users in the test group) below:"
   ]
  },
  {
   "cell_type": "code",
   "execution_count": 1,
   "metadata": {},
   "outputs": [
    {
     "name": "stderr",
     "output_type": "stream",
     "text": [
      "/home/rumbaugh/miniconda2/lib/python2.7/site-packages/pandas/core/computation/__init__.py:18: UserWarning: The installed version of numexpr 2.2.2 is not supported in pandas and will be not be used\n",
      "The minimum supported version is 2.4.6\n",
      "\n",
      "  ver=ver, min_ver=_MIN_NUMEXPR_VERSION), UserWarning)\n"
     ]
    }
   ],
   "source": [
    "from SambaTranslation import *\n",
    "T = TranslationTest()"
   ]
  },
  {
   "cell_type": "code",
   "execution_count": 2,
   "metadata": {},
   "outputs": [
    {
     "data": {
      "text/html": [
       "<div>\n",
       "<style>\n",
       "    .dataframe thead tr:only-child th {\n",
       "        text-align: right;\n",
       "    }\n",
       "\n",
       "    .dataframe thead th {\n",
       "        text-align: left;\n",
       "    }\n",
       "\n",
       "    .dataframe tbody tr th {\n",
       "        vertical-align: top;\n",
       "    }\n",
       "</style>\n",
       "<table border=\"1\" class=\"dataframe\">\n",
       "  <thead>\n",
       "    <tr style=\"text-align: right;\">\n",
       "      <th></th>\n",
       "      <th>Conversion Rate</th>\n",
       "      <th>Test Fraction</th>\n",
       "    </tr>\n",
       "    <tr>\n",
       "      <th>country</th>\n",
       "      <th></th>\n",
       "      <th></th>\n",
       "    </tr>\n",
       "  </thead>\n",
       "  <tbody>\n",
       "    <tr>\n",
       "      <th>Mauritius</th>\n",
       "      <td>0.012821</td>\n",
       "      <td>0.899613</td>\n",
       "    </tr>\n",
       "    <tr>\n",
       "      <th>Algeria</th>\n",
       "      <td>0.013994</td>\n",
       "      <td>0.799799</td>\n",
       "    </tr>\n",
       "    <tr>\n",
       "      <th>Seychelles</th>\n",
       "      <td>0.048089</td>\n",
       "      <td>0.502404</td>\n",
       "    </tr>\n",
       "    <tr>\n",
       "      <th>Haiti</th>\n",
       "      <td>0.048634</td>\n",
       "      <td>0.501079</td>\n",
       "    </tr>\n",
       "    <tr>\n",
       "      <th>Andorra</th>\n",
       "      <td>0.048863</td>\n",
       "      <td>0.503199</td>\n",
       "    </tr>\n",
       "    <tr>\n",
       "      <th>Belgium</th>\n",
       "      <td>0.049072</td>\n",
       "      <td>0.494432</td>\n",
       "    </tr>\n",
       "    <tr>\n",
       "      <th>Senegal</th>\n",
       "      <td>0.049253</td>\n",
       "      <td>0.491013</td>\n",
       "    </tr>\n",
       "    <tr>\n",
       "      <th>Tunisia</th>\n",
       "      <td>0.049653</td>\n",
       "      <td>0.496066</td>\n",
       "    </tr>\n",
       "    <tr>\n",
       "      <th>Switzerland</th>\n",
       "      <td>0.049666</td>\n",
       "      <td>0.496194</td>\n",
       "    </tr>\n",
       "    <tr>\n",
       "      <th>Morocco</th>\n",
       "      <td>0.049704</td>\n",
       "      <td>0.500785</td>\n",
       "    </tr>\n",
       "    <tr>\n",
       "      <th>Cameroon</th>\n",
       "      <td>0.050258</td>\n",
       "      <td>0.498931</td>\n",
       "    </tr>\n",
       "    <tr>\n",
       "      <th>Democratic Republic of the Congo</th>\n",
       "      <td>0.050341</td>\n",
       "      <td>0.500257</td>\n",
       "    </tr>\n",
       "    <tr>\n",
       "      <th>Republic of the Congo</th>\n",
       "      <td>0.050765</td>\n",
       "      <td>0.497492</td>\n",
       "    </tr>\n",
       "    <tr>\n",
       "      <th>Canada</th>\n",
       "      <td>0.051332</td>\n",
       "      <td>0.498927</td>\n",
       "    </tr>\n",
       "    <tr>\n",
       "      <th>Luxembourg</th>\n",
       "      <td>0.053399</td>\n",
       "      <td>0.491447</td>\n",
       "    </tr>\n",
       "    <tr>\n",
       "      <th>Gabon</th>\n",
       "      <td>0.053494</td>\n",
       "      <td>0.498964</td>\n",
       "    </tr>\n",
       "    <tr>\n",
       "      <th>France</th>\n",
       "      <td>0.079719</td>\n",
       "      <td>0.000000</td>\n",
       "    </tr>\n",
       "  </tbody>\n",
       "</table>\n",
       "</div>"
      ],
      "text/plain": [
       "                                  Conversion Rate  Test Fraction\n",
       "country                                                         \n",
       "Mauritius                                0.012821       0.899613\n",
       "Algeria                                  0.013994       0.799799\n",
       "Seychelles                               0.048089       0.502404\n",
       "Haiti                                    0.048634       0.501079\n",
       "Andorra                                  0.048863       0.503199\n",
       "Belgium                                  0.049072       0.494432\n",
       "Senegal                                  0.049253       0.491013\n",
       "Tunisia                                  0.049653       0.496066\n",
       "Switzerland                              0.049666       0.496194\n",
       "Morocco                                  0.049704       0.500785\n",
       "Cameroon                                 0.050258       0.498931\n",
       "Democratic Republic of the Congo         0.050341       0.500257\n",
       "Republic of the Congo                    0.050765       0.497492\n",
       "Canada                                   0.051332       0.498927\n",
       "Luxembourg                               0.053399       0.491447\n",
       "Gabon                                    0.053494       0.498964\n",
       "France                                   0.079719       0.000000"
      ]
     },
     "execution_count": 2,
     "metadata": {},
     "output_type": "execute_result"
    }
   ],
   "source": [
    "df_table = pd.DataFrame({'Test Fraction':\n",
    "            T.df.groupby('country')['test'].sum()*1./\n",
    "                         T.df.groupby('country')['test'].count(),\n",
    "        'Conversion Rate': T.df.groupby('country')['conversion'].sum()*1./\n",
    "                         T.df.groupby('country')['conversion'].count()})\n",
    "df_table.sort_values('Conversion Rate')"
   ]
  },
  {
   "cell_type": "markdown",
   "metadata": {},
   "source": [
    "The majority of countries have a conversion rate of approximately 5%. Excluding France, Algeria, and Mauritius, the  conversion rates range from 5.35% to 4.81%. The conversion rates from Algeria and Mauritius are significantly lower, at 1.4% and 1.3%. While the rest of the countries were split evenly between the test and control groups, 80% of users in Algeria and Mauritius were placed into the test group. \n",
    "\n",
    "The imbalance in both the conversion rates and test fractions for Algeria and Mauritius creates an imbalance between the test and control groups. The users from these two countries are driving down the average conversion rate. But, they are driving it down more in the test group, since there are 4 times as many users from those countries in the test group compared to the control group, whereas users from other countries are evenly split between them. \n",
    "\n",
    "This imbalance is not the only issue affecting the conversion rate. When splitting up the sample by country, some, such as Morocco, actually have a higher test conversion rate. This appears to be largely a function of the browser language however:"
   ]
  },
  {
   "cell_type": "code",
   "execution_count": 3,
   "metadata": {},
   "outputs": [
    {
     "name": "stdout",
     "output_type": "stream",
     "text": [
      "\n",
      "browser_language = EN:\n",
      "   Test Conversion Rate: 6.12% +/- 0.64%\n",
      "Control Conversion Rate: 4.65% +/- 0.58%\n",
      "\n",
      "browser_language = FR:\n",
      "   Test Conversion Rate: 4.97% +/- 0.24%\n",
      "Control Conversion Rate: 4.83% +/- 0.24%\n",
      "\n",
      "browser_language = Other:\n",
      "   Test Conversion Rate: 4.79% +/- 1.25%\n",
      "Control Conversion Rate: 5.02% +/- 1.31%\n",
      "\n",
      "Full Test:\n",
      "   Test Conversion Rate: 5.13% +/- 0.22%\n",
      "Control Conversion Rate: 4.81% +/- 0.22%\n"
     ]
    }
   ],
   "source": [
    "T.naive_test(df = T.df[T.df.country == 'Morocco'], iterate_on = 'browser_language')"
   ]
  },
  {
   "cell_type": "markdown",
   "metadata": {},
   "source": [
    "The results for Morocco seem to be influenced by users using their browser in English, since those using French have no significant difference in conversion rate between test and control groups. If the browser is in English, users are probably not viewing the localized French translations, so these users may be skewing results. \n",
    "\n",
    "After excising users from Algeria and Mauritius and only including entries where the browser language is English, there is no difference in conversion rate between the Test and Control groups:"
   ]
  },
  {
   "cell_type": "code",
   "execution_count": 4,
   "metadata": {},
   "outputs": [
    {
     "name": "stdout",
     "output_type": "stream",
     "text": [
      "   Test Conversion Rate: 5.05% +/- 0.06%\n",
      "Control Conversion Rate: 5.05% +/- 0.06%\n"
     ]
    }
   ],
   "source": [
    "T.df_fr = T.df[T.df.browser_language == 'FR']\n",
    "T.naive_test(df = T.df_fr[np.in1d(T.df_fr.country,['Algeria','Mauritius'], \n",
    "                                  invert=True)], excludeFrance=True)"
   ]
  },
  {
   "cell_type": "markdown",
   "metadata": {},
   "source": [
    "## Fixing the Problem\n",
    "Nominally, the problem is in the distribution of users into test and control groups. In the existing case, when the sample was subdivided by country, some subdivisions had overall conversion rates significantly different from the rest of the sample. This would be acceptable if the fraction of users in the test group was the same between all subdivisions, but this also wasn't true. \n",
    "\n",
    "To identify if this problem is ocurring in the future, one can first locate any subdivisions that are outliers in overall conversion rate. If there are outliers, one can then perform a $\\chi^2$ test to test whether or not the fraction of users in the test group is the same among all subdivisions. If not, then the same problem exists.\n",
    "\n",
    "To fix the problem, subdivisions with outliers in overall conversion rate can be excised, as was done above. Alternatively, all subdivisions can be independently resampled to have the same fraction of users in the test group. "
   ]
  },
  {
   "cell_type": "code",
   "execution_count": 7,
   "metadata": {},
   "outputs": [
    {
     "data": {
      "text/plain": [
       "True"
      ]
     },
     "execution_count": 7,
     "metadata": {},
     "output_type": "execute_result"
    }
   ],
   "source": [
    "T.is_there_an_outlier(subdivide_col = 'country', excludeFrance = True, outlier_thresh = 3)"
   ]
  },
  {
   "cell_type": "code",
   "execution_count": 6,
   "metadata": {},
   "outputs": [
    {
     "data": {
      "text/plain": [
       "Power_divergenceResult(statistic=0.20887622618688559, pvalue=0.99999999999968003)"
      ]
     },
     "execution_count": 6,
     "metadata": {},
     "output_type": "execute_result"
    }
   ],
   "source": [
    "import scipy\n",
    "scipy.stats.chisquare(df_table['Conversion Rate'].median(),\n",
    "                      df_table['Conversion Rate'].values)"
   ]
  }
 ],
 "metadata": {
  "kernelspec": {
   "display_name": "Python 2",
   "language": "python",
   "name": "python2"
  },
  "language_info": {
   "codemirror_mode": {
    "name": "ipython",
    "version": 2
   },
   "file_extension": ".py",
   "mimetype": "text/x-python",
   "name": "python",
   "nbconvert_exporter": "python",
   "pygments_lexer": "ipython2",
   "version": "2.7.6"
  }
 },
 "nbformat": 4,
 "nbformat_minor": 2
}
